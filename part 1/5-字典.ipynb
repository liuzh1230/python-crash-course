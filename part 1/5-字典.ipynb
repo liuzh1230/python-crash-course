{
 "cells": [
  {
   "cell_type": "code",
   "execution_count": null,
   "id": "3d422b62",
   "metadata": {},
   "outputs": [],
   "source": [
    "alien_0={'color':'green','points':5}\n",
    "print(alien_0)\n",
    "print(alien_0['color'])\n",
    "print(alien_0['points'])\n",
    "#字典：一系列键-值对，这里与\"键\"相关联的\"值\"可以是数字、字符串、列表乃至字典\n",
    "new_points=alien_0['points']\n",
    "print(\"You just earned \"+str(new_points)+\" points!\")\n",
    "\n",
    "alien_0['x_position']=0\n",
    "alien_0['y_position']=25\n",
    "print(alien_0)\n",
    "#添加键-值对\n",
    "\n",
    "alien_0={} #创建空字典\n",
    "alien_0['color']='green'\n",
    "alien_0['points']=5\n",
    "print(alien_0)"
   ]
  },
  {
   "cell_type": "code",
   "execution_count": null,
   "id": "c1758795",
   "metadata": {},
   "outputs": [],
   "source": [
    "alien_0={'color':'green'}\n",
    "print(\"The alien is \"+alien_0['color']+\".\")\n",
    "alien_0['color']='yellow' #修改字典中的值\n",
    "print(\"The alien is now \"+alien_0['color']+\".\")\n",
    "\n",
    "alien_0={'x_position':0,'y_position':25,'speed':'medium'}\n",
    "if alien_0['speed']==\"slow\":\n",
    "    x_increasement=1\n",
    "elif alien_0['speed']=='medium':\n",
    "    x_increasement=2\n",
    "else:\n",
    "    x_increasement=3\n",
    "alien_0['x_position']=alien_0['x_position']+x_increasement\n",
    "print(\"New x-position: \"+str(alien_0['x_position']))\n"
   ]
  },
  {
   "cell_type": "code",
   "execution_count": null,
   "id": "4706959e",
   "metadata": {},
   "outputs": [],
   "source": [
    "alien_0={'color':'green','points':5}\n",
    "print(alien_0)\n",
    "\n",
    "del alien_0['points'] \n",
    "print(alien_0) #删除键-值对"
   ]
  },
  {
   "cell_type": "code",
   "execution_count": null,
   "id": "8535c6e8",
   "metadata": {},
   "outputs": [],
   "source": [
    "favourite_languages={\n",
    "    'jen':'python',\n",
    "    'sarah':'c',\n",
    "    'edward':'java',\n",
    "    'phil':'python',\n",
    "}\n",
    "print(\"Sarah's favourite language is \"+\n",
    "      favourite_languages['sarah'].title()+\n",
    "      \".\")\n",
    "#分行以美化代码"
   ]
  },
  {
   "cell_type": "code",
   "execution_count": null,
   "id": "24f2a39a",
   "metadata": {},
   "outputs": [],
   "source": [
    "#遍历所有键-值对\n",
    "\n",
    "user_0={\n",
    "    'username':'efermi',\n",
    "    'first':'enrico',\n",
    "    'last':'fermi',\n",
    "}\n",
    "for key,value in user_0.items():\n",
    "    print(\"\\nKey: \"+key)\n",
    "    print(\"Value: \"+value)\n",
    "#声明两个变量，分别用于存储键和值； items():返回一个键-值对列表  注意：返回顺序与存储顺序不一定相同，python只关注键-值对本身\n",
    "\n",
    "favourite_languages={\n",
    "    'jen':'python',\n",
    "    'sarah':'c',\n",
    "    'edward':'java',\n",
    "    'phil':'python',\n",
    "}\n",
    "for name,language in favourite_languages.items():\n",
    "    print(name.title()+\"'s favourite language is \"+\n",
    "          language.title()+\".\")"
   ]
  },
  {
   "cell_type": "code",
   "execution_count": null,
   "id": "10343e5e",
   "metadata": {},
   "outputs": [],
   "source": [
    "#遍历所有键\n",
    "\n",
    "favourite_languages={\n",
    "    'jen':'python',\n",
    "    'sarah':'c',\n",
    "    'edward':'java',\n",
    "    'phil':'python',\n",
    "}\n",
    "for name in favourite_languages.keys():\n",
    "    print(name.title())\n",
    "#keys():只取\"键\"  因为遍历字典时默认会遍历所有的键，所以此处去掉.keys()后输出不变\n",
    "\n",
    "friends=['phil','sarah']\n",
    "for name in favourite_languages.keys():\n",
    "    print(name.title())\n",
    "    if name in friends:\n",
    "        print(\"Hi \"+name.title()+\n",
    "              \", I see your favourite language is \"+\n",
    "              favourite_languages[name].title()+\".\")\n",
    "\n",
    "if 'erin' not in favourite_languages.keys():\n",
    "    print(\"Erin , please take our poll!\")\n",
    "#keys()实际上是返回了一个列表，其中包含了字典中的所有键\n",
    "\n",
    "#按顺序遍历字典中所有的键\n",
    "for name in sorted(favourite_languages.keys()):\n",
    "    print(name.title())\n",
    "\n"
   ]
  },
  {
   "cell_type": "code",
   "execution_count": 1,
   "id": "b88c2829",
   "metadata": {},
   "outputs": [
    {
     "name": "stdout",
     "output_type": "stream",
     "text": [
      "Python\n",
      "C\n",
      "Java\n",
      "Python\n",
      "\n",
      "\n",
      "Python\n",
      "C\n",
      "Java\n"
     ]
    }
   ],
   "source": [
    "#遍历字典中的所有值\n",
    "\n",
    "favourite_languages={\n",
    "    'jen':'python',\n",
    "    'sarah':'c',\n",
    "    'edward':'java',\n",
    "    'phil':'python',\n",
    "}\n",
    "for language in favourite_languages.values():\n",
    "    print(language.title())\n",
    "#value:返回一个值列表 其不考虑是否重复\n",
    "print(\"\\n\")\n",
    "for language in set(favourite_languages.values()):\n",
    "    print(language.title())\n",
    "#set:集合，类似于列表，但元素不可重复出现\n"
   ]
  },
  {
   "cell_type": "code",
   "execution_count": null,
   "id": "82566f08",
   "metadata": {},
   "outputs": [],
   "source": [
    "#嵌套——在列表中储存字典\n",
    "\n",
    "alien_0={'color':'green','points':5}\n",
    "alien_1={'color':'yellow','points':10}\n",
    "alien_2={'color':'red','points':15}\n",
    "aliens=[alien_0,alien_1,alien_2]\n",
    "for alien in aliens:\n",
    "    print(alien)\n",
    "\n",
    "aliens=[]\n",
    "for alien_number in range(30):\n",
    "    new_alien={'color':'green','points':5,'speed':'slow'}\n",
    "    aliens.append(new_alien)\n",
    "#创建30个绿色的外星人\n",
    "for alien in aliens[:5]:\n",
    "    print(alien)\n",
    "print(\"Total number of aliens: \"+str(len(aliens)))\n",
    "\n",
    "#批量处理外星人\n",
    "for alien in aliens[:3]:\n",
    "    if alien['color']=='green':\n",
    "        alien['color']='yellow'\n",
    "        alien['speed']='medium'\n",
    "        alien['points']=10\n",
    "for alien in aliens[:5]:\n",
    "    print(alien)"
   ]
  },
  {
   "cell_type": "code",
   "execution_count": 6,
   "id": "d5f92504",
   "metadata": {},
   "outputs": [
    {
     "name": "stdout",
     "output_type": "stream",
     "text": [
      "You order a thick-crust pizzawith the following toppings:\n",
      "\tmushrooms\n",
      "\textra cheese\n",
      "\n",
      "Jen's favourite languages are:\n",
      "\tPython\n",
      "\tRuby\n",
      "\n",
      "Sarah's favourite languages are:\n",
      "\tC\n",
      "\n",
      "Edward's favourite languages are:\n",
      "\tRuby\n",
      "\tGo\n",
      "\n",
      "Phil's favourite languages are:\n",
      "\tPython\n",
      "\tHaskell\n"
     ]
    }
   ],
   "source": [
    "#嵌套——在字典中储存列表\n",
    "\n",
    "pizza={\n",
    "    'crust':'thick',\n",
    "    'toppings':['mushrooms','extra cheese'],\n",
    "}\n",
    "print(\"You order a \"+pizza['crust']+\"-crust pizza\"+\n",
    "      \"with the following toppings:\")\n",
    "for topping in pizza['toppings']:\n",
    "    print(\"\\t\"+topping)\n",
    "\n",
    "\n",
    "favourite_languages={\n",
    "    'jen':['python','ruby'],\n",
    "    'sarah':['c'],\n",
    "    'edward':['ruby','go'],\n",
    "    'phil':['python','haskell'],\n",
    "}\n",
    "for name,languages in favourite_languages.items():\n",
    "    print(\"\\n\"+name.title()+\"'s favourite languages are:\")\n",
    "    for language in languages:\n",
    "        print(\"\\t\"+language.title())"
   ]
  },
  {
   "cell_type": "code",
   "execution_count": null,
   "id": "cd1b3037",
   "metadata": {},
   "outputs": [
    {
     "name": "stdout",
     "output_type": "stream",
     "text": [
      "\n",
      "Username: aeinstein\n",
      "\tFull name: Alert Einstein\n",
      "\tLocation: Princeton\n",
      "\n",
      "Username: mcurie\n",
      "\tFull name: Marie Curie\n",
      "\tLocation: Paris\n"
     ]
    }
   ],
   "source": [
    "#嵌套——在字典中储存字典\n",
    "\n",
    "users={\n",
    "    'aeinstein':{\n",
    "        'first':'alert',\n",
    "        'last':'einstein',\n",
    "        'location':'princeton',\n",
    "    },\n",
    "    'mcurie':{\n",
    "        'first':'marie',\n",
    "        'last':'curie',\n",
    "        'location':'paris',\n",
    "    },\n",
    "\n",
    "}\n",
    "for username,userinfo in users.items():\n",
    "    print(\"\\nUsername: \"+username)\n",
    "    full_name=userinfo['first']+\" \"+userinfo['last']\n",
    "    location=userinfo['location']\n",
    "    print(\"\\tFull name: \"+full_name.title())\n",
    "    print(\"\\tLocation: \"+location.title())\n",
    "#为使代码更加简洁，一般要求字典内部存储的字典结构相同，以便于统一处理方式"
   ]
  }
 ],
 "metadata": {
  "kernelspec": {
   "display_name": "base",
   "language": "python",
   "name": "python3"
  },
  "language_info": {
   "codemirror_mode": {
    "name": "ipython",
    "version": 3
   },
   "file_extension": ".py",
   "mimetype": "text/x-python",
   "name": "python",
   "nbconvert_exporter": "python",
   "pygments_lexer": "ipython3",
   "version": "3.13.5"
  }
 },
 "nbformat": 4,
 "nbformat_minor": 5
}
