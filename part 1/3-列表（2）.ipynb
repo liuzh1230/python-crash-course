{
 "cells": [
  {
   "cell_type": "code",
   "execution_count": null,
   "id": "141404fb",
   "metadata": {},
   "outputs": [],
   "source": [
    "magicians=['alice','david','carolina']\n",
    "for magician in magicians:\n",
    "    print(magician)\n",
    "print(\"\\n\")\n",
    "for magician in magicians:\n",
    "    print(magician.title()+\",that was a great trick!\")\n",
    "    print(\"I can't wait to see your next trick,\"+magician.title()+\".\\n\")\n",
    "#python中缩进充当了c++中{}的作用\n"
   ]
  },
  {
   "cell_type": "code",
   "execution_count": null,
   "id": "0cad8832",
   "metadata": {},
   "outputs": [],
   "source": [
    "for value in range(1,5):\n",
    "    print(value)\n",
    "#range:从指定的第一个值开始数，到达指定的第二个值时停止，因此输出不包含第二个值\n",
    "numbers=list(range(1,6))\n",
    "print(numbers)\n",
    "\n",
    "even_numbers=list(range(2,11,2)) #指定步长\n",
    "print(even_numbers)\n",
    "\n",
    "squares=[]\n",
    "for value in range(1,11):\n",
    "    squares.append(value**2)\n",
    "print(squares)\n"
   ]
  },
  {
   "cell_type": "code",
   "execution_count": 12,
   "id": "7a630033",
   "metadata": {},
   "outputs": [
    {
     "data": {
      "text/plain": [
       "45"
      ]
     },
     "execution_count": 12,
     "metadata": {},
     "output_type": "execute_result"
    }
   ],
   "source": [
    "digits=[1,2,3,4,5,6,7,8,9,0]\n",
    "min(digits)\n",
    "max(digits)\n",
    "sum(digits)"
   ]
  },
  {
   "cell_type": "code",
   "execution_count": null,
   "id": "a4320428",
   "metadata": {},
   "outputs": [],
   "source": [
    "#列表解析\n",
    "squares=[value**2 for value in range(1,11)]\n",
    "print(squares)\n",
    "#首先指定一个列表名(squares)；其次，定义一个表达式；接着，编写一个for循环，用于给表达式提供值"
   ]
  },
  {
   "cell_type": "code",
   "execution_count": null,
   "id": "94d7878a",
   "metadata": {},
   "outputs": [],
   "source": [
    "#切片\n",
    "players=['charles','martina','michael','florence','eli']\n",
    "print(players[0:3]) #从第\"0\"个元素开始，到第(3-1)个元素终止\n",
    "print(players[1:4])\n",
    "\n",
    "print(players[:4]) #未指定起始位置时，默认从开头开始\n",
    "print(players[2:]) #未指定终止位置时，默认在末尾停下\n",
    "\n",
    "print(players[-3:]) #打印最后3个\n",
    "\n",
    "for player in players[:3]:\n",
    "    print(player.title())"
   ]
  },
  {
   "cell_type": "code",
   "execution_count": null,
   "id": "f61fb621",
   "metadata": {},
   "outputs": [],
   "source": [
    "#复制列表\n",
    "my_foods=['pizza','falafel','carrot cake']\n",
    "friend1_foods=my_foods[:] #将my_foods这个列表创造了一个副本，赋给了friends_foods，是两个不同列表！\n",
    "print(my_foods)\n",
    "print(friend1_foods)\n",
    "my_foods.append('cannoli')\n",
    "friend1_foods.append('ice cream')\n",
    "print(my_foods)\n",
    "print(friend1_foods)\n",
    "\n",
    "#对比以下情况\n",
    "friend2_foods=my_foods\n",
    "my_foods.append('rice')\n",
    "friend2_foods.append(\"noodles\")\n",
    "print(my_foods)\n",
    "print(friend2_foods)"
   ]
  },
  {
   "cell_type": "code",
   "execution_count": 28,
   "id": "2bab8b05",
   "metadata": {},
   "outputs": [
    {
     "name": "stdout",
     "output_type": "stream",
     "text": [
      "200\n",
      "50\n",
      "200\n",
      "50\n",
      "100\n"
     ]
    }
   ],
   "source": [
    "#元组：\"不可变\"的列表\n",
    "dimensions=(200,50) #用圆括号标识\n",
    "print(dimensions[0])\n",
    "print(dimensions[1])\n",
    "\n",
    "# dimensions[0]=250 会报错\n",
    "\n",
    "for dimension in dimensions:\n",
    "    print(dimension)\n",
    "\n",
    "dimensions=(400,100) #给存储元组的变量赋值\n",
    "print(dimensions[1])"
   ]
  },
  {
   "cell_type": "markdown",
   "id": "1192b077",
   "metadata": {},
   "source": []
  }
 ],
 "metadata": {
  "kernelspec": {
   "display_name": "base",
   "language": "python",
   "name": "python3"
  },
  "language_info": {
   "codemirror_mode": {
    "name": "ipython",
    "version": 3
   },
   "file_extension": ".py",
   "mimetype": "text/x-python",
   "name": "python",
   "nbconvert_exporter": "python",
   "pygments_lexer": "ipython3",
   "version": "3.13.5"
  }
 },
 "nbformat": 4,
 "nbformat_minor": 5
}
