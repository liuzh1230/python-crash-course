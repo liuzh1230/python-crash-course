{
 "cells": [
  {
   "cell_type": "code",
   "execution_count": 8,
   "id": "2d4f5c0a",
   "metadata": {},
   "outputs": [
    {
     "name": "stdout",
     "output_type": "stream",
     "text": [
      "Enter 'q' at any time to quit.\n"
     ]
    }
   ],
   "source": [
    "from name_function import get_formatted_name\n",
    "\n",
    "print(\"Enter 'q' at any time to quit.\")\n",
    "\n",
    "while True:\n",
    "    first=input(\"\\nPlease give me a first name.\")\n",
    "    if first=='q':\n",
    "        break\n",
    "    last=input(\"\\nPlease give me a last name.\")\n",
    "    if last=='q':\n",
    "        break\n",
    "    formatted_name=get_formatted_name(first,last)\n",
    "    print(\"\\tNeatly formatted name: \"+formatted_name+\".\")\n",
    "\n",
    "#假设我们要修改get_formatted_name()，使其能处理中间名\n",
    "#为此，我们每次修改后都要进行测试\n",
    "#所幸python提供了一种自动测试函数输出的高校方式"
   ]
  }
 ],
 "metadata": {
  "kernelspec": {
   "display_name": "base",
   "language": "python",
   "name": "python3"
  },
  "language_info": {
   "codemirror_mode": {
    "name": "ipython",
    "version": 3
   },
   "file_extension": ".py",
   "mimetype": "text/x-python",
   "name": "python",
   "nbconvert_exporter": "python",
   "pygments_lexer": "ipython3",
   "version": "3.13.5"
  }
 },
 "nbformat": 4,
 "nbformat_minor": 5
}
