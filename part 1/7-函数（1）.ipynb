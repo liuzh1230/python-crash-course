{
 "cells": [
  {
   "cell_type": "code",
   "execution_count": null,
   "id": "57337c6f",
   "metadata": {},
   "outputs": [],
   "source": [
    "def greet_user():\n",
    "    \"\"\"显示简单的问候语\"\"\"\n",
    "    print(\"Hello\")\n",
    "#def:定义函数  ()：需要什么样的信息  \"\"\"\"\"\"\":文档字符串\n",
    "greet_user()"
   ]
  },
  {
   "cell_type": "code",
   "execution_count": null,
   "id": "e7cb355a",
   "metadata": {},
   "outputs": [],
   "source": [
    "def greet_user(username):\n",
    "    print(\"Hello, \"+username.title()+\"!\")\n",
    "\n",
    "greet_user(\"Eric\")\n",
    "\n",
    "#实参和形参：在函数greet_user()的定义中，username是一个形参——函数完成其工作所需的一项信息\n",
    "#在代码greet_user(\"Eric\")中，值\"Eric\"是一个实参——调用函数时传递给函数的信息"
   ]
  },
  {
   "cell_type": "code",
   "execution_count": null,
   "id": "1c2930dc",
   "metadata": {},
   "outputs": [],
   "source": [
    "#传递实参1——位置实参\n",
    "#调用函数时，将函数调用中的每个实参关联到函数定义中的一个形参。最简单的方式是基于实参的顺序\n",
    "\n",
    "def describe_pet(animal_type,pet_name):\n",
    "    \"\"\"显示宠物的信息\"\"\"\n",
    "    print(\"\\nI have a \"+animal_type+\".\")\n",
    "    print(\"My \"+animal_type+\"'s name is \"+pet_name.title()+\".\")\n",
    "\n",
    "describe_pet(\"hamster\",\"harry\")\n",
    "describe_pet('dog','john')\n"
   ]
  },
  {
   "cell_type": "code",
   "execution_count": null,
   "id": "39a99d32",
   "metadata": {},
   "outputs": [],
   "source": [
    "#传递实参2——关键字实参\n",
    "#传递给函数的名称-值对。直接在实参中将名称和值关联起来\n",
    "\n",
    "def describe_pet(animal_type,pet_name):\n",
    "    \"\"\"显示宠物的信息\"\"\"\n",
    "    print(\"\\nI have a \"+animal_type+\".\")\n",
    "    print(\"My \"+animal_type+\"'s name is \"+pet_name.title()+\".\")\n",
    "\n",
    "describe_pet(pet_name='harry',animal_type='dog')"
   ]
  },
  {
   "cell_type": "code",
   "execution_count": null,
   "id": "a9c898ad",
   "metadata": {},
   "outputs": [],
   "source": [
    "def describe_pet(pet_name,animal_type='dog'):\n",
    "    \"\"\"显示宠物的信息\"\"\"\n",
    "    print(\"\\nI have a \"+animal_type+\".\")\n",
    "    print(\"My \"+animal_type+\"'s name is \"+pet_name.title()+\".\")\n",
    "\n",
    "describe_pet('latty')\n",
    "#为参数设置默认值\n",
    "#注意：这个函数的定义中，修改了形参的排列顺序。\n",
    "#在python中，有默认值的参数必须排在无默认值参数之后，否则会报错。\n",
    "#同时，这也便于用位置实参传递\n",
    "\n",
    "#默认值、位置实参、关键字实参可以混合使用\n",
    "describe_pet('latty','cat')\n",
    "describe_pet('latty',animal_type='cat')"
   ]
  },
  {
   "cell_type": "code",
   "execution_count": null,
   "id": "e1abd0de",
   "metadata": {},
   "outputs": [],
   "source": [
    "#返回值\n",
    "\n",
    "def get_formatted_name(first_name,last_name):\n",
    "    \"\"\"返回整洁的姓名\"\"\"\n",
    "    full_name=first_name+\" \"+last_name\n",
    "    return full_name.title()\n",
    "\n",
    "musician=get_formatted_name('jimi','hendris')\n",
    "print(musician)"
   ]
  },
  {
   "cell_type": "code",
   "execution_count": null,
   "id": "cf2ff64d",
   "metadata": {},
   "outputs": [],
   "source": [
    "def get_formatted_name(first_name,last_name,mid_name=''):\n",
    "    \"\"\"返回整洁的姓名\"\"\"\n",
    "    if mid_name:\n",
    "        full_name=first_name+\" \"+mid_name+\" \"+last_name\n",
    "    else:\n",
    "        full_name=first_name+\" \"+last_name\n",
    "    return full_name.title()\n",
    "\n",
    "musician=get_formatted_name('jimi','hendrix')\n",
    "print(musician)\n",
    "musician=get_formatted_name('jimi','hendrix','lee')\n",
    "print(musician)\n",
    "#为实参指定一个默认值——空字符串，让实参变为\"可选项\""
   ]
  },
  {
   "cell_type": "code",
   "execution_count": null,
   "id": "f7ead360",
   "metadata": {},
   "outputs": [],
   "source": [
    "def build_person(first_name,last_name,age=''):\n",
    "    \"\"\"返回一个字典，其中包含有关一个人的信息\"\"\"\n",
    "    person={'first':first_name,'last':last_name}\n",
    "    if age:\n",
    "        person['age']=age\n",
    "    return person\n",
    "\n",
    "musician=build_person('jimi','hendrix',27)\n",
    "print(musician)\n",
    "musician['age']>10"
   ]
  },
  {
   "cell_type": "code",
   "execution_count": null,
   "id": "fea6ba99",
   "metadata": {},
   "outputs": [],
   "source": [
    "def get_formatted_name(first_name,last_name):\n",
    "    \"\"\"返回整洁的姓名\"\"\"\n",
    "    full_name=first_name+\" \"+last_name\n",
    "    return full_name.title()\n",
    "\n",
    "while True:\n",
    "    print(\"\\nPlease tell me your name\")\n",
    "    print(\"(enter 'q' at any time to quit)\")\n",
    "    f_name=input(\"First name: \")\n",
    "    if f_name=='q':\n",
    "        break\n",
    "    l_name=input(\"Last name: \")\n",
    "    if l_name=='q':\n",
    "        break\n",
    "    formatted_name=get_formatted_name(f_name,l_name)\n",
    "    print(\"\\nHello, \"+formatted_name+\"!\")\n",
    "    "
   ]
  },
  {
   "cell_type": "code",
   "execution_count": null,
   "id": "56d65c25",
   "metadata": {},
   "outputs": [
    {
     "name": "stdout",
     "output_type": "stream",
     "text": [
      "Hello, Hannah!\n",
      "Hello, Ty!\n",
      "Hello, Margot!\n",
      "\n",
      "\n",
      "Printing model: dodecahedrin\n",
      "Printing model: robot pendant\n",
      "Printing model: iphone case\n",
      "\n",
      "The following models have been printed\n",
      "dodecahedrin\n",
      "robot pendant\n",
      "iphone case\n"
     ]
    }
   ],
   "source": [
    "#传递列表\n",
    "\n",
    "def greet_users(names):\n",
    "    \"\"\"向列表中的每个用户发出问候\"\"\"\n",
    "    for name in names:\n",
    "        msg=\"Hello, \"+name.title()+\"!\"\n",
    "        print(msg)\n",
    "\n",
    "usernames=['hannah','ty','margot']\n",
    "greet_users(usernames)\n",
    "\n",
    "print(\"\\n\")\n",
    "\n",
    "\n",
    "#将列表传递给函数后，函数可对其进行修改。在函数中对这个列表所做的任何修改都是永久性的！\n",
    "def print_models(unprinted_designs,completed_models):\n",
    "    \"\"\"模拟打印每个设计，直到没有未打印的设计为止\n",
    "    打印每个设计后,移到列表completed_models中\"\"\"\n",
    "    while unprinted_designs:\n",
    "        current_design=unprinted_designs.pop()\n",
    "        \n",
    "        print(\"Printing model: \"+current_design)\n",
    "        completed_models.append(current_design)\n",
    "\n",
    "def show_com_models(completed_models):\n",
    "    \"\"\"显示打印好的所有模型\"\"\"\n",
    "    print(\"\\nThe following models have been printed\")\n",
    "    for completed_model in completed_models:\n",
    "        print(completed_model)\n",
    "\n",
    "unprinted_designs=['iphone case','robot pendant','dodecahedrin']\n",
    "completed_models=[]\n",
    "\n",
    "print_models(unprinted_designs,completed_models)\n",
    "show_com_models(completed_models)\n",
    "\n",
    "#禁止函数修改列表：若需要保留原列表，可以采取向函数传递列表的副本而不是原件\n",
    "#eg: function_name(list_name[:])"
   ]
  },
  {
   "cell_type": "code",
   "execution_count": null,
   "id": "e3bda6da",
   "metadata": {},
   "outputs": [
    {
     "name": "stdout",
     "output_type": "stream",
     "text": [
      "('pepperoni',)\n",
      "('mushrooms', 'green peppers')\n"
     ]
    }
   ],
   "source": [
    "#传递任意数量的实参\n",
    "\n",
    "def make_pizza(*toppings):  #\"*\"星号让python创建了一个空元组，并将收到的所有值封装进去\n",
    "    \"\"\"打印顾客所点的所有配料\"\"\"\n",
    "    print(toppings)\n",
    "\n",
    "make_pizza('pepperoni')\n",
    "make_pizza('mushrooms','green peppers')"
   ]
  },
  {
   "cell_type": "code",
   "execution_count": 14,
   "id": "e91967d8",
   "metadata": {},
   "outputs": [
    {
     "name": "stdout",
     "output_type": "stream",
     "text": [
      "\n",
      "Making a pizza with the following toppings:\n",
      "- pepperoni\n",
      "\n",
      "Making a pizza with the following toppings:\n",
      "- mushrooms\n",
      "- green peppers\n"
     ]
    }
   ],
   "source": [
    "def make_pizza(*toppings):\n",
    "    print(\"\\nMaking a pizza with the following toppings:\")\n",
    "    for topping in toppings:\n",
    "        print(\"- \"+topping)\n",
    "    \n",
    "make_pizza('pepperoni')\n",
    "make_pizza('mushrooms','green peppers')\n"
   ]
  },
  {
   "cell_type": "code",
   "execution_count": 15,
   "id": "7c60e5d0",
   "metadata": {},
   "outputs": [
    {
     "name": "stdout",
     "output_type": "stream",
     "text": [
      "\n",
      "Making a 16-inch pizza with the following toppings:\n",
      "- pepperoni\n",
      "\n",
      "Making a 22-inch pizza with the following toppings:\n",
      "- mushrooms\n",
      "- green peppers\n",
      "- extra cheese\n"
     ]
    }
   ],
   "source": [
    "#结合使用位置实参和任意数量的实参\n",
    "#接纳任意数量实参的形参必须放在最后，python先匹配位置实参和关键字实参\n",
    "\n",
    "\n",
    "def make_pizza(size,*toppings):\n",
    "    \"\"\"概述要制作的披萨\"\"\"\n",
    "    print(\"\\nMaking a \"+str(size)+\n",
    "          \"-inch pizza with the following toppings:\")\n",
    "    for topping in toppings:\n",
    "        print(\"- \"+topping)\n",
    "\n",
    "make_pizza(16,'pepperoni')\n",
    "make_pizza(22,'mushrooms','green peppers','extra cheese')"
   ]
  },
  {
   "cell_type": "code",
   "execution_count": null,
   "id": "1b8e19e8",
   "metadata": {},
   "outputs": [
    {
     "name": "stdout",
     "output_type": "stream",
     "text": [
      "{'first_name': 'albert', 'last_name': 'einstein', 'location': 'princeton', 'field': 'physics'}\n"
     ]
    }
   ],
   "source": [
    "#使用任意数量的关键字实参\n",
    "\n",
    "def build_profile(first,last,**user_info):  #\"**\"两个星号：创建了一个空字典,可传递键-值对\n",
    "    \"\"\"创建一个字典，包含我们知道的有关用户的一切\"\"\"\n",
    "    profile={}\n",
    "    profile['first_name']=first\n",
    "    profile['last_name']=last\n",
    "    for key,value in user_info.items():  \n",
    "        profile[key]=value\n",
    "    return profile\n",
    "\n",
    "user_profile=build_profile('albert','einstein',\n",
    "                           location='princeton',\n",
    "                           field='physics')\n",
    "print(user_profile)\n"
   ]
  }
 ],
 "metadata": {
  "kernelspec": {
   "display_name": "base",
   "language": "python",
   "name": "python3"
  },
  "language_info": {
   "codemirror_mode": {
    "name": "ipython",
    "version": 3
   },
   "file_extension": ".py",
   "mimetype": "text/x-python",
   "name": "python",
   "nbconvert_exporter": "python",
   "pygments_lexer": "ipython3",
   "version": "3.13.5"
  }
 },
 "nbformat": 4,
 "nbformat_minor": 5
}
