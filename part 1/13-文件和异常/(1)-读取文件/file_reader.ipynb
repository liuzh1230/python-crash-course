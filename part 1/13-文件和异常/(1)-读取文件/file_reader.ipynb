{
 "cells": [
  {
   "cell_type": "code",
   "execution_count": 5,
   "id": "3f23f496",
   "metadata": {},
   "outputs": [
    {
     "name": "stdout",
     "output_type": "stream",
     "text": [
      "3.1415926535\n",
      "  8979323846\n",
      "  2643383279\n"
     ]
    }
   ],
   "source": [
    "with open('pi_digits.txt') as file_object:\n",
    "    contents=file_object.read()\n",
    "\n",
    "print(contents)\n",
    "\n",
    "#open():打开文件，其接受一个参数——打开文件的名称\n",
    "#python在当前执行的文件所在的目录中查找指定的文件\n",
    "#这里，open('pi_digits.txt')返回一个表示该文件的对象，其被存储在后面使用的变量中\n",
    "#关键字with在不再需要访问文件后将其关闭\n",
    "#有了表示pi_digits.txt的文件对象后，我们使用方法read()读取其全部内容，\n",
    "#并将其作为一个字符串储存在变量contents中\n",
    "#(该输出结尾会多一个空行，因为read()到达文件末尾时返回一个空字符串，显示出来就是一个空行，可使用rstrip()删除)"
   ]
  },
  {
   "cell_type": "code",
   "execution_count": 6,
   "id": "a908b80f",
   "metadata": {},
   "outputs": [],
   "source": [
    "#若要让python打开不与程序文件位于同一个目录的文件，需要提供文件路径\n",
    "\n",
    "#相对文件路径：要打开的文件所处的文件夹在程序文件所在文件夹里\n",
    "#eg:程序文件储存在文件夹python_work中，而该文件夹中有一个名为text_files的文件夹\n",
    "#可使用以下代码：with open('text_files\\filename.txt') as file_object:\n",
    "\n",
    "#绝对文件路径：提供准确位置\n",
    "#eg:file_path='C:\\Users\\ehmatthes\\other_files\\text_files\\filename.txt'"
   ]
  },
  {
   "cell_type": "code",
   "execution_count": null,
   "id": "4ec8f7fb",
   "metadata": {},
   "outputs": [
    {
     "name": "stdout",
     "output_type": "stream",
     "text": [
      "3.1415926535\n",
      "  8979323846\n",
      "  2643383279\n"
     ]
    }
   ],
   "source": [
    "file_name='pi_digits.txt'\n",
    "with open(file_name) as file_object:\n",
    "    for line in file_object: #逐行读取\n",
    "        print(line.rstrip())\n"
   ]
  },
  {
   "cell_type": "code",
   "execution_count": 14,
   "id": "9b9b1d36",
   "metadata": {},
   "outputs": [
    {
     "name": "stdout",
     "output_type": "stream",
     "text": [
      "3.1415926535\n",
      "  8979323846\n",
      "  2643383279\n",
      "3.141592653589793238462643383279\n",
      "32\n"
     ]
    }
   ],
   "source": [
    "#使用关键字with时，open()返回的文件对象(file_object)只在with代码块内可用\n",
    "#若要在with代码块外访问文件的内容，可在with代码块内将文件的各行存储在一个列表中\n",
    "file_name='pi_digits.txt'\n",
    "with open(file_name) as file_object:\n",
    "    lines=file_object.readlines()\n",
    "#方法readlines()从文件中读取每一行，并将其存储在一个列表中，接下来，该列表被存储在变量lines中\n",
    "pi_string=''\n",
    "for line in lines:\n",
    "    print(line.rstrip())\n",
    "    pi_string+=line.strip() #把原来位于每行左边的空格也删除\n",
    "print(pi_string)\n",
    "print(len(pi_string))"
   ]
  },
  {
   "cell_type": "code",
   "execution_count": null,
   "id": "ca68bcee",
   "metadata": {},
   "outputs": [
    {
     "name": "stdout",
     "output_type": "stream",
     "text": [
      "1000002\n",
      "Your birthday appears in the first million digits of pi!\n"
     ]
    }
   ],
   "source": [
    "file_name='pi_million_digits.txt'\n",
    "with open(file_name) as file_object:\n",
    "    lines=file_object.readlines()\n",
    "pi_string=''\n",
    "for line in lines:\n",
    "    pi_string+=line.strip() #把原来位于每行左边的空格也删除\n",
    "#print(pi_string)\n",
    "print(len(pi_string))\n",
    "\n",
    "birthday=input(\"Enter your birthday,in the form mmddyy: \")\n",
    "if birthday in pi_string: #检测该字符串(birthday)是否包含在pi_string里面\n",
    "    print(\"Your birthday appears in the first million digits of pi!\")\n",
    "else:\n",
    "    print(\"Your birthday does not appear in the first million digits of pi.\")"
   ]
  }
 ],
 "metadata": {
  "kernelspec": {
   "display_name": "base",
   "language": "python",
   "name": "python3"
  },
  "language_info": {
   "codemirror_mode": {
    "name": "ipython",
    "version": 3
   },
   "file_extension": ".py",
   "mimetype": "text/x-python",
   "name": "python",
   "nbconvert_exporter": "python",
   "pygments_lexer": "ipython3",
   "version": "3.13.5"
  }
 },
 "nbformat": 4,
 "nbformat_minor": 5
}
