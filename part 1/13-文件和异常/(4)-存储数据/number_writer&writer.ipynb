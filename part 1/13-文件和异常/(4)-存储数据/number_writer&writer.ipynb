{
 "cells": [
  {
   "cell_type": "code",
   "execution_count": null,
   "id": "ff7bda84",
   "metadata": {},
   "outputs": [],
   "source": [
    "#在用户关闭程序时存储信息\n",
    "#利用json模块\n",
    "\n",
    "#使用json.dump()存储数字列表\n",
    "import json\n",
    "numbers=[2,3,5,7,11,13]   #先导入json模块，再创建需要存储的列表\n",
    "file_name='numbers.json'  #指定将要存储该数字列表的文件的名称，后缀名.json指出格式\n",
    "with open(file_name,'w') as f_obj: #以写入模式打开\n",
    "    json.dump(numbers,f_obj)  #使用函数json.dump()将数字列表存入numbers.json\n",
    "\n",
    "\n",
    "\n"
   ]
  },
  {
   "cell_type": "code",
   "execution_count": 1,
   "id": "c9c4cb11",
   "metadata": {},
   "outputs": [
    {
     "name": "stdout",
     "output_type": "stream",
     "text": [
      "[2, 3, 5, 7, 11, 13]\n"
     ]
    }
   ],
   "source": [
    "import json\n",
    "filename='numbers.json'\n",
    "with open(filename) as f_obj:\n",
    "    numbers=json.load(f_obj)\n",
    "print(numbers)"
   ]
  }
 ],
 "metadata": {
  "kernelspec": {
   "display_name": "base",
   "language": "python",
   "name": "python3"
  },
  "language_info": {
   "codemirror_mode": {
    "name": "ipython",
    "version": 3
   },
   "file_extension": ".py",
   "mimetype": "text/x-python",
   "name": "python",
   "nbconvert_exporter": "python",
   "pygments_lexer": "ipython3",
   "version": "3.13.5"
  }
 },
 "nbformat": 4,
 "nbformat_minor": 5
}
