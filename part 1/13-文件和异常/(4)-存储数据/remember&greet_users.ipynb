{
 "cells": [
  {
   "cell_type": "code",
   "execution_count": null,
   "id": "d03fcc97",
   "metadata": {},
   "outputs": [
    {
     "name": "stdout",
     "output_type": "stream",
     "text": [
      "We'll remember you when you come back, Hans!\n"
     ]
    }
   ],
   "source": [
    "import json\n",
    "username=input(\"What is your name?\")\n",
    "\n",
    "filename='username.json'\n",
    "with open(filename,'w') as f_obj:\n",
    "    json.dump(username,f_obj)\n",
    "    print(\"We'll remember you when you come back, \"+username+\"!\")"
   ]
  },
  {
   "cell_type": "code",
   "execution_count": 2,
   "id": "191042af",
   "metadata": {},
   "outputs": [
    {
     "name": "stdout",
     "output_type": "stream",
     "text": [
      "Welcome back, Hans!\n"
     ]
    }
   ],
   "source": [
    "import json\n",
    "\n",
    "filename='username.json'\n",
    "with open(filename) as f_obj:\n",
    "    username=json.load(f_obj)\n",
    "    print(\"Welcome back, \"+username+\"!\")"
   ]
  },
  {
   "cell_type": "code",
   "execution_count": 5,
   "id": "47410571",
   "metadata": {},
   "outputs": [
    {
     "name": "stdout",
     "output_type": "stream",
     "text": [
      "Welcome back, Hans!\n"
     ]
    }
   ],
   "source": [
    "#合并上述两个程序\n",
    "\n",
    "import json\n",
    "\n",
    "#如果以前存储了用户名，就加载它\n",
    "#否则，提示用户输入用户名并存储\n",
    "filename='username.json'\n",
    "try:\n",
    "    with open(filename) as f_obj:\n",
    "        username=json.load(f_obj)\n",
    "except FileNotFoundError:\n",
    "    username=input(\"What is your name?\")\n",
    "    with open(filename,'w') as f_obj:\n",
    "        json.dump(username,f_obj)\n",
    "        print(\"We'll remember you when you come back, \"+username+\"!\")\n",
    "else:\n",
    "    print(\"Welcome back, \"+username+\"!\")"
   ]
  },
  {
   "cell_type": "code",
   "execution_count": 9,
   "id": "d20a4ccd",
   "metadata": {},
   "outputs": [
    {
     "name": "stdout",
     "output_type": "stream",
     "text": [
      "Welcome back, Hans!\n"
     ]
    }
   ],
   "source": [
    "#重构代码以使其更清晰、易于理解和扩展\n",
    "import json\n",
    "def get_stored_username():\n",
    "    \"\"\"如果存储了用户名就获取它\"\"\"\n",
    "    filename='username.json'\n",
    "    try:\n",
    "        with open(filename) as f_obj:\n",
    "            username=json.load(f_obj)\n",
    "    except FileNotFoundError:\n",
    "        return None  #使用函数的返回值进行测试\n",
    "    else:\n",
    "        return username\n",
    "\n",
    "def get_new_username():\n",
    "    username=input(\"What is your name?\")\n",
    "    filename='username.json'\n",
    "    with open(filename,'w') as f_obj:\n",
    "        json.dump(username,f_obj)\n",
    "    return username\n",
    "\n",
    "def greet_user():\n",
    "    \"\"\"问候用户\"\"\"\n",
    "    username=get_stored_username()\n",
    "    if username:\n",
    "        print(\"Welcome back, \"+username+\"!\")\n",
    "    else:\n",
    "        username=get_new_username()\n",
    "        print(\"We'll remember you when you come back, \"+username+\"!\")\n",
    "\n",
    "greet_user()"
   ]
  }
 ],
 "metadata": {
  "kernelspec": {
   "display_name": "base",
   "language": "python",
   "name": "python3"
  },
  "language_info": {
   "codemirror_mode": {
    "name": "ipython",
    "version": 3
   },
   "file_extension": ".py",
   "mimetype": "text/x-python",
   "name": "python",
   "nbconvert_exporter": "python",
   "pygments_lexer": "ipython3",
   "version": "3.13.5"
  }
 },
 "nbformat": 4,
 "nbformat_minor": 5
}
