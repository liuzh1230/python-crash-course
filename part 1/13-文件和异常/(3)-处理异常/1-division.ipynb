{
 "cells": [
  {
   "cell_type": "code",
   "execution_count": 4,
   "id": "5a722f66",
   "metadata": {},
   "outputs": [
    {
     "ename": "ZeroDivisionError",
     "evalue": "division by zero",
     "output_type": "error",
     "traceback": [
      "\u001b[1;31m---------------------------------------------------------------------------\u001b[0m",
      "\u001b[1;31mZeroDivisionError\u001b[0m                         Traceback (most recent call last)",
      "Cell \u001b[1;32mIn[4], line 7\u001b[0m\n\u001b[0;32m      1\u001b[0m \u001b[38;5;66;03m#python使用被称为\"异常\"的特殊对象管理程序执行期间发生的错误\u001b[39;00m\n\u001b[0;32m      2\u001b[0m \u001b[38;5;66;03m#每当程序出现一个错误时，它都会创建一个异常对象\u001b[39;00m\n\u001b[0;32m      3\u001b[0m \u001b[38;5;66;03m#如果编写了处理该异常的代码，程序会继续运行\u001b[39;00m\n\u001b[0;32m      4\u001b[0m \u001b[38;5;66;03m#若未处理，程序将停止，并显示一个traceback，其中包含有关异常的报告\u001b[39;00m\n\u001b[0;32m      5\u001b[0m \n\u001b[0;32m      6\u001b[0m \u001b[38;5;66;03m#异常使用try-except代码块处理\u001b[39;00m\n\u001b[1;32m----> 7\u001b[0m \u001b[38;5;28mprint\u001b[39m(\u001b[38;5;241m5\u001b[39m\u001b[38;5;241m/\u001b[39m\u001b[38;5;241m0\u001b[39m)\n",
      "\u001b[1;31mZeroDivisionError\u001b[0m: division by zero"
     ]
    }
   ],
   "source": [
    "#python使用被称为\"异常\"的特殊对象管理程序执行期间发生的错误\n",
    "#每当程序出现一个错误时，它都会创建一个异常对象\n",
    "#如果编写了处理该异常的代码，程序会继续运行\n",
    "#若未处理，程序将停止，并显示一个traceback，其中包含有关异常的报告\n",
    "\n",
    "#异常使用try-except代码块处理\n",
    "print(5/0)"
   ]
  },
  {
   "cell_type": "code",
   "execution_count": 5,
   "id": "14abc68a",
   "metadata": {},
   "outputs": [
    {
     "name": "stdout",
     "output_type": "stream",
     "text": [
      "You can't divide by zero!\n"
     ]
    }
   ],
   "source": [
    "\n",
    "#上述traceback中，\"ZeroDivisionError\"是一个异常对象，我们可根据该信息修改程序\n",
    "try:\n",
    "    print(5/0)\n",
    "except ZeroDivisionError:\n",
    "    print(\"You can't divide by zero!\")"
   ]
  },
  {
   "cell_type": "code",
   "execution_count": null,
   "id": "14b9b74d",
   "metadata": {},
   "outputs": [
    {
     "name": "stdout",
     "output_type": "stream",
     "text": [
      "Give me two numbers, and I'll divide then.\n",
      "Enter 'q' to quit.\n"
     ]
    },
    {
     "ename": "ZeroDivisionError",
     "evalue": "division by zero",
     "output_type": "error",
     "traceback": [
      "\u001b[1;31m---------------------------------------------------------------------------\u001b[0m",
      "\u001b[1;31mZeroDivisionError\u001b[0m                         Traceback (most recent call last)",
      "Cell \u001b[1;32mIn[8], line 13\u001b[0m\n\u001b[0;32m     11\u001b[0m \u001b[38;5;28;01mif\u001b[39;00m second_number\u001b[38;5;241m==\u001b[39m\u001b[38;5;124m'\u001b[39m\u001b[38;5;124mq\u001b[39m\u001b[38;5;124m'\u001b[39m:\n\u001b[0;32m     12\u001b[0m     \u001b[38;5;28;01mbreak\u001b[39;00m\n\u001b[1;32m---> 13\u001b[0m answer\u001b[38;5;241m=\u001b[39m\u001b[38;5;28mint\u001b[39m(first_number)\u001b[38;5;241m/\u001b[39m\u001b[38;5;28mint\u001b[39m(second_number)\n\u001b[0;32m     14\u001b[0m \u001b[38;5;28mprint\u001b[39m(answer)\n",
      "\u001b[1;31mZeroDivisionError\u001b[0m: division by zero"
     ]
    }
   ],
   "source": [
    "#处理异常避免崩溃\n",
    "\n",
    "print(\"Give me two numbers, and I'll divide then.\")\n",
    "print(\"Enter 'q' to quit.\")\n",
    "\n",
    "while True:\n",
    "    first_number=input(\"\\nFirst number: \")\n",
    "    if first_number=='q':\n",
    "        break\n",
    "    second_number=input(\"\\nSecond number: \")\n",
    "    if second_number=='q':\n",
    "        break\n",
    "    answer=int(first_number)/int(second_number) #第二个数为0时会出现错误导致崩溃\n",
    "    print(answer)"
   ]
  },
  {
   "cell_type": "code",
   "execution_count": null,
   "id": "768b0d09",
   "metadata": {},
   "outputs": [
    {
     "name": "stdout",
     "output_type": "stream",
     "text": [
      "Give me two numbers, and I'll divide then.\n",
      "Enter 'q' to quit.\n",
      "2.0\n"
     ]
    }
   ],
   "source": [
    "#处理异常避免崩溃\n",
    "\n",
    "print(\"Give me two numbers, and I'll divide then.\")\n",
    "print(\"Enter 'q' to quit.\")\n",
    "\n",
    "while True:\n",
    "    first_number=input(\"\\nFirst number: \")\n",
    "    if first_number=='q':\n",
    "        break\n",
    "    second_number=input(\"\\nSecond number: \")\n",
    "    if second_number=='q':\n",
    "        break\n",
    "    try:\n",
    "        answer=int(first_number)/int(second_number)\n",
    "        #print(answer)   \n",
    "    except ZeroDivisionError:\n",
    "        print(\"You can't divide by zero!\")\n",
    "    else:           #依赖于try代码块成功执行的代码都应该放到else代码块中，但实际上放到try中也可执行\n",
    "       print(answer)  "
   ]
  }
 ],
 "metadata": {
  "kernelspec": {
   "display_name": "base",
   "language": "python",
   "name": "python3"
  },
  "language_info": {
   "codemirror_mode": {
    "name": "ipython",
    "version": 3
   },
   "file_extension": ".py",
   "mimetype": "text/x-python",
   "name": "python",
   "nbconvert_exporter": "python",
   "pygments_lexer": "ipython3",
   "version": "3.13.5"
  }
 },
 "nbformat": 4,
 "nbformat_minor": 5
}
