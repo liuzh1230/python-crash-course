{
 "cells": [
  {
   "cell_type": "code",
   "execution_count": null,
   "id": "2a102183",
   "metadata": {},
   "outputs": [],
   "source": [
    "file_name='alice.txt'\n",
    "\n",
    "with open(file_name) as f_obj:\n",
    "    contents=f_obj.read()\n",
    "    "
   ]
  },
  {
   "cell_type": "code",
   "execution_count": 3,
   "id": "bf073394",
   "metadata": {},
   "outputs": [
    {
     "name": "stdout",
     "output_type": "stream",
     "text": [
      "Sorry, the file alice.txt does not exist\n"
     ]
    }
   ],
   "source": [
    "#上述traceback中，报告了\"FileNotFoundError\"异常\n",
    "#这个示例中，这个错误是函数open()导致的，因此必须将try语句放在包含open()的代码之前\n",
    "\n",
    "file_name='alice.txt'\n",
    "\n",
    "try:\n",
    "    with open(file_name) as f_obj:\n",
    "        contents=f_obj.read()\n",
    "except FileNotFoundError:\n",
    "    msg=\"Sorry, the file \"+file_name+\" does not exist\"\n",
    "    print(msg)"
   ]
  },
  {
   "cell_type": "code",
   "execution_count": null,
   "id": "c948a71a",
   "metadata": {},
   "outputs": [
    {
     "name": "stdout",
     "output_type": "stream",
     "text": [
      "The file Alice.txt has about 29594 words.\n"
     ]
    }
   ],
   "source": [
    "#下面提取童话Alice in Wonderland的文本，并计算它包含多少个单词\n",
    "#我们将使用方法split()，其根据一个字符串创建一个单词列表(以空格为分隔符)\n",
    "title='Alice in Wonderland'\n",
    "title.split()\n",
    "\n",
    "filename='Alice.txt'\n",
    "\n",
    "try:\n",
    "    with open(filename) as f_obj:\n",
    "        contents=f_obj.read()\n",
    "except FileNotFoundError:\n",
    "    msg=\"Sorry, the file \"+filename+\" does not exist\"\n",
    "    print(msg)\n",
    "else:\n",
    "    words=contents.split()\n",
    "    numwords=len(words)\n",
    "    print(\"The file \"+filename+\" has about \"+str(numwords)+\" words.\")"
   ]
  }
 ],
 "metadata": {
  "kernelspec": {
   "display_name": "base",
   "language": "python",
   "name": "python3"
  },
  "language_info": {
   "codemirror_mode": {
    "name": "ipython",
    "version": 3
   },
   "file_extension": ".py",
   "mimetype": "text/x-python",
   "name": "python",
   "nbconvert_exporter": "python",
   "pygments_lexer": "ipython3",
   "version": "3.13.5"
  }
 },
 "nbformat": 4,
 "nbformat_minor": 5
}
