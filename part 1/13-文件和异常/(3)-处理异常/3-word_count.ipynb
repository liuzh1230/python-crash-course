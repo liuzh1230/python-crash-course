{
 "cells": [
  {
   "cell_type": "code",
   "execution_count": 1,
   "id": "bb8372a5",
   "metadata": {},
   "outputs": [
    {
     "name": "stdout",
     "output_type": "stream",
     "text": [
      "The file Alice.txt has about 29594 words.\n",
      "The file Alice.txt has about 29594 words.\n",
      "The file little_women.txt has about 189142 words.\n",
      "Sorry, the file siddhartha.txt does not exist\n",
      "The file moby_dick.txt has about 215864 words.\n"
     ]
    }
   ],
   "source": [
    "def count_words(file_name):\n",
    "    try:\n",
    "        with open(file_name) as f_obj:\n",
    "            contents=f_obj.read()\n",
    "    except FileNotFoundError:\n",
    "        msg=\"Sorry, the file \"+file_name+\" does not exist\"\n",
    "        print(msg)\n",
    "    else:\n",
    "        words=contents.split()\n",
    "        numwords=len(words)\n",
    "        print(\"The file \"+file_name+\" has about \"+str(numwords)+\" words.\")\n",
    "\n",
    "count_words('Alice.txt')\n",
    "\n",
    "filenames=['Alice.txt','little_women.txt','siddhartha.txt','moby_dick.txt']\n",
    "for filename in filenames:\n",
    "    count_words(filename)"
   ]
  },
  {
   "cell_type": "code",
   "execution_count": null,
   "id": "b04533ac",
   "metadata": {},
   "outputs": [],
   "source": [
    "def count_words(file_name):\n",
    "    try:\n",
    "        with open(file_name) as f_obj:\n",
    "            contents=f_obj.read()\n",
    "    except FileNotFoundError:\n",
    "        pass  #失败时一声不吭\n",
    "    else:\n",
    "        words=contents.split()\n",
    "        numwords=len(words)\n",
    "        print(\"The file \"+file_name+\" has about \"+str(numwords)+\" words.\")\n",
    "\n",
    "count_words('Alice.txt')\n",
    "\n",
    "filenames=['Alice.txt','little_women.txt','siddhartha.txt','moby_dick.txt']\n",
    "for filename in filenames:\n",
    "    count_words(filename)"
   ]
  }
 ],
 "metadata": {
  "kernelspec": {
   "display_name": "base",
   "language": "python",
   "name": "python3"
  },
  "language_info": {
   "codemirror_mode": {
    "name": "ipython",
    "version": 3
   },
   "file_extension": ".py",
   "mimetype": "text/x-python",
   "name": "python",
   "nbconvert_exporter": "python",
   "pygments_lexer": "ipython3",
   "version": "3.13.5"
  }
 },
 "nbformat": 4,
 "nbformat_minor": 5
}
