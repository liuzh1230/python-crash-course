{
 "cells": [
  {
   "cell_type": "code",
   "execution_count": null,
   "id": "649b97e2",
   "metadata": {},
   "outputs": [],
   "source": [
    "filename='programming.txt'\n",
    "\n",
    "with open(filename,'w') as file_object:\n",
    "    file_object.write(\"Hello world!\")\n",
    "\n",
    "#调用open()时提供了两个实参。第二个实参表示打开文件的模式\n",
    "#包括读取模式('r'),写入模式('w'),附加模式('a'),读写模式('r+')\n",
    "#省略该位置的情况下，默认以只读形式打开\n",
    "#写入模式下，若文件夹中不存在该文件，将自动创造\n",
    "#若已存在该文件，则会清空原文件后写入\n",
    "\n",
    "#python只能将字符串写入文本文件。要存储数值，则必须利用str()函数"
   ]
  },
  {
   "cell_type": "code",
   "execution_count": 4,
   "id": "644f172c",
   "metadata": {},
   "outputs": [],
   "source": [
    "filename='programming.txt'\n",
    "\n",
    "with open(filename,'w') as file_object:\n",
    "    file_object.write(\"Hello world!\\n\")\n",
    "    file_object.write(\"I love python.\\n\")"
   ]
  },
  {
   "cell_type": "code",
   "execution_count": null,
   "id": "53dda91c",
   "metadata": {},
   "outputs": [],
   "source": [
    "#给文件添加内容，而不是覆盖原有内容，可使用附加模式\n",
    "#在附加模式下，写入到文件的行将添加到文件末尾\n",
    "\n",
    "file_name='programming.txt'\n",
    "\n",
    "with open(file_name,'a') as file_object:\n",
    "    file_object.write(\"I love programming.\\n\")\n",
    "    file_object.write(\"I alse love creating games.\")\n"
   ]
  }
 ],
 "metadata": {
  "kernelspec": {
   "display_name": "base",
   "language": "python",
   "name": "python3"
  },
  "language_info": {
   "codemirror_mode": {
    "name": "ipython",
    "version": 3
   },
   "file_extension": ".py",
   "mimetype": "text/x-python",
   "name": "python",
   "nbconvert_exporter": "python",
   "pygments_lexer": "ipython3",
   "version": "3.13.5"
  }
 },
 "nbformat": 4,
 "nbformat_minor": 5
}
