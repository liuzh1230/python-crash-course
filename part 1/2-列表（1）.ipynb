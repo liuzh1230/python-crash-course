{
 "cells": [
  {
   "cell_type": "code",
   "execution_count": 1,
   "id": "4a4fa490",
   "metadata": {},
   "outputs": [
    {
     "name": "stdout",
     "output_type": "stream",
     "text": [
      "['trek', 'cannondale', 'redline', 'specialized']\n",
      "trek\n",
      "Trek\n",
      "specialized\n"
     ]
    }
   ],
   "source": [
    "bicycles=['trek','cannondale','redline','specialized']\n",
    "print(bicycles)\n",
    "print(bicycles[0])\n",
    "print(bicycles[0].title()) #下标从0开始\n",
    "print(bicycles[-1]) #-i表示倒数第i个元素\n",
    "\n"
   ]
  },
  {
   "cell_type": "code",
   "execution_count": 1,
   "id": "46ca9101",
   "metadata": {},
   "outputs": [
    {
     "name": "stdout",
     "output_type": "stream",
     "text": [
      "['honda', 'yamaha', 'suzuki']\n",
      "['ducati', 'yamaha', 'suzuki']\n",
      "['ducati', 'yamaha', 'suzuki', 'honda']\n",
      "['ducati', 'honda', 'yamaha', 'suzuki']\n",
      "['yamaha', 'suzuki']\n",
      "['honda', 'yamaha']\n",
      "suzuki\n",
      "['yamaha', 'suzuki']\n",
      "honda\n",
      "['honda', 'suzuki']\n",
      "['honda', 'yamaha']\n"
     ]
    }
   ],
   "source": [
    "#修改、添加和删除\n",
    "\n",
    "motorcycles=['honda','yamaha','suzuki']\n",
    "print(motorcycles)\n",
    "motorcycles[0]='ducati'\n",
    "print(motorcycles)\n",
    "\n",
    "motorcycles.append('honda')\n",
    "print(motorcycles)  #append：在末尾添加\n",
    "\n",
    "motorcycles=['honda','yamaha','suzuki']\n",
    "motorcycles.insert(0,'ducati')\n",
    "print(motorcycles) #insert：在指定位置添加元素\n",
    "\n",
    "motorcycles=['honda','yamaha','suzuki']\n",
    "del motorcycles[0]\n",
    "print(motorcycles) #del：删除指定位置元素\n",
    "\n",
    "motorcycles=['honda','yamaha','suzuki']\n",
    "popped=motorcycles.pop()\n",
    "print(motorcycles)\n",
    "print(popped) #pop():默认删除列表末尾元素并可调用\n",
    "motorcycles=['honda','yamaha','suzuki']\n",
    "popped=motorcycles.pop(0)\n",
    "print(motorcycles)\n",
    "print(popped) #pop():也可删除指定位置元素\n",
    "\n",
    "motorcycles=['honda','yamaha','suzuki']\n",
    "motorcycles.remove('yamaha')\n",
    "print(motorcycles)\n",
    "motorcycles=['honda','yamaha','suzuki']\n",
    "choice='suzuki'\n",
    "motorcycles.remove(choice)\n",
    "print(motorcycles) #remove():删除指定值  注意：其只删除第一个指定值，若指定值出现多次且需全部删除，则要利用循环\n"
   ]
  },
  {
   "cell_type": "code",
   "execution_count": 2,
   "id": "eac469f0",
   "metadata": {},
   "outputs": [
    {
     "name": "stdout",
     "output_type": "stream",
     "text": [
      "['audi', 'bmw', 'subaru', 'toyota']\n",
      "['toyota', 'subaru', 'bmw', 'audi']\n",
      "[1, 2, 3, 5, 6]\n",
      "['bmw', 'audi', 'toyota', 'subaru']\n",
      "['audi', 'bmw', 'subaru', 'toyota']\n",
      "['toyota', 'subaru', 'bmw', 'audi']\n",
      "['subaru', 'toyota', 'audi', 'bmw']\n"
     ]
    },
    {
     "data": {
      "text/plain": [
       "4"
      ]
     },
     "execution_count": 2,
     "metadata": {},
     "output_type": "execute_result"
    }
   ],
   "source": [
    "cars=['bmw','audi','toyota','subaru']\n",
    "cars.sort()\n",
    "print(cars) #sort:按字母序排列并永久修改  并非所有值都是小写时会更加复杂\n",
    "cars.sort(reverse=True)\n",
    "print(cars) #reverse=True:反字母序\n",
    "numbers=[1,3,5,2,6]\n",
    "numbers.sort()\n",
    "print(numbers)\n",
    "\n",
    "cars=['bmw','audi','toyota','subaru']\n",
    "cars_sorted=sorted(cars)\n",
    "print(cars)\n",
    "print(cars_sorted)\n",
    "cars_sorted=sorted(cars,reverse=True)\n",
    "print(cars_sorted) #sorted:不改变原列表序\n",
    "\n",
    "cars=['bmw','audi','toyota','subaru']\n",
    "cars.reverse()\n",
    "print(cars) #reverse:永久反转列表元素排列\n",
    "\n",
    "cars=['bmw','audi','toyota','subaru']\n",
    "len(cars) #列表长度\n",
    "\n"
   ]
  }
 ],
 "metadata": {
  "kernelspec": {
   "display_name": "base",
   "language": "python",
   "name": "python3"
  },
  "language_info": {
   "codemirror_mode": {
    "name": "ipython",
    "version": 3
   },
   "file_extension": ".py",
   "mimetype": "text/x-python",
   "name": "python",
   "nbconvert_exporter": "python",
   "pygments_lexer": "ipython3",
   "version": "3.13.5"
  }
 },
 "nbformat": 4,
 "nbformat_minor": 5
}
