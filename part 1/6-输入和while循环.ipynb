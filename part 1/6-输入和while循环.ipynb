{
 "cells": [
  {
   "cell_type": "code",
   "execution_count": null,
   "id": "c7b4efe8",
   "metadata": {},
   "outputs": [],
   "source": [
    "#input \n",
    "\n",
    "message=input(\"Tell me something, and I will repeat it back to you: \") #input()接受一个参数：即要向用户提供的说明\n",
    "print(message)"
   ]
  },
  {
   "cell_type": "code",
   "execution_count": null,
   "id": "6a4914f9",
   "metadata": {},
   "outputs": [],
   "source": [
    "prompt=\"If you tell us who you are, we can personalize the messages you see\"\n",
    "prompt+=\"\\nWhat is your first name\"\n",
    "name=input(prompt)\n",
    "print(\"\\nHello, \"+name+\".\")"
   ]
  },
  {
   "cell_type": "code",
   "execution_count": null,
   "id": "70dbe855",
   "metadata": {},
   "outputs": [],
   "source": [
    "age=input(\"How old are you?\")\n",
    "age #使用input时，默认为字符串\n",
    "age=int(age) #类型转换\n",
    "if age>=18:\n",
    "    print(\"You are old enough.\")\n",
    "else:\n",
    "    print(\"Sorry, we can't offer you this service.\")"
   ]
  },
  {
   "cell_type": "code",
   "execution_count": null,
   "id": "3647f438",
   "metadata": {},
   "outputs": [],
   "source": [
    "number=input(\"Enter a number , and I'll tell you if it's even or odd:\")\n",
    "number=int(number)\n",
    "if number%2==0:\n",
    "    print(\"\\nThe number \"+str(number)+\" is even.\")\n",
    "else:\n",
    "    print(\"\\nThe number \"+str(number)+\" is odd.\")"
   ]
  },
  {
   "cell_type": "code",
   "execution_count": null,
   "id": "ef04c8ee",
   "metadata": {},
   "outputs": [],
   "source": [
    "#while循环\n",
    "\n",
    "current_number=1\n",
    "while current_number<=5:\n",
    "    print(current_number)\n",
    "    current_number+=1\n",
    "\n",
    "prompt=\"\\nTell me something, and I'll repeat it back to you.\"\n",
    "prompt+=\"\\nEnter 'quit' to end the program\"\n",
    "message=\"\"\n",
    "while message!=\"quit\":\n",
    "    message=input(prompt)\n",
    "    if message!=\"quit\":\n",
    "        print(message)"
   ]
  },
  {
   "cell_type": "code",
   "execution_count": null,
   "id": "7a5ff49f",
   "metadata": {},
   "outputs": [],
   "source": [
    "prompt=\"\\nTell me something, and I'll repeat it back to you.\"\n",
    "prompt+=\"\\nEnter 'quit' to end the program\"\n",
    "active=True\n",
    "while active:\n",
    "    message=input(prompt)\n",
    "    if message==\"quit\":\n",
    "        active=False\n",
    "    else:\n",
    "        print(message)"
   ]
  },
  {
   "cell_type": "code",
   "execution_count": null,
   "id": "828be475",
   "metadata": {},
   "outputs": [],
   "source": [
    "#break  while和for循环均可使用\n",
    "\n",
    "prompt=\"\\nPlease enter the name of a city you have visited.\"\n",
    "prompt+=\"\\nEnter 'quit' to end the program\"\n",
    "while True:\n",
    "    city=input(prompt)\n",
    "    if city==\"quit\":\n",
    "        break\n",
    "    else:\n",
    "        print(\"I'd love to go to \"+city.title()+\"!\")"
   ]
  },
  {
   "cell_type": "code",
   "execution_count": null,
   "id": "d0cd8b12",
   "metadata": {},
   "outputs": [],
   "source": [
    "#continue:忽略循环剩下部分代码，回到开头\n",
    "\n",
    "current_number=0\n",
    "while current_number<10:\n",
    "    current_number+=1\n",
    "    if current_number%2==0:\n",
    "        continue\n",
    "    print(current_number)"
   ]
  },
  {
   "cell_type": "code",
   "execution_count": 19,
   "id": "a917a6fe",
   "metadata": {},
   "outputs": [
    {
     "name": "stdout",
     "output_type": "stream",
     "text": [
      "Verifying user: Candace\n",
      "Verifying user: Brian\n",
      "Verifying user: Alice\n",
      "\n",
      "The following users have been confirmed:\n",
      "Candace\n",
      "Brian\n",
      "Alice\n"
     ]
    }
   ],
   "source": [
    "#for是遍历列表的有效方式，但for循环中不应修改列表，以避免出现错误。要在遍历列表的同时\n",
    "#修改列表，while循环是一个好的选择\n",
    "\n",
    "unconfirmed_users=['alice','brian','candace']\n",
    "confirmed_users=[]\n",
    "while unconfirmed_users: #直到没有未验证用户为止\n",
    "    current_user=unconfirmed_users.pop()\n",
    "    print(\"Verifying user: \"+current_user.title())\n",
    "    confirmed_users.append(current_user)\n",
    "\n",
    "print(\"\\nThe following users have been confirmed:\")\n",
    "for confirmed_user in confirmed_users:\n",
    "    print(confirmed_user.title())"
   ]
  },
  {
   "cell_type": "code",
   "execution_count": 20,
   "id": "2ac38e17",
   "metadata": {},
   "outputs": [
    {
     "name": "stdout",
     "output_type": "stream",
     "text": [
      "['dog', 'cat', 'dog', 'goldfish', 'cat', 'rabbit', 'cat']\n",
      "['dog', 'dog', 'goldfish', 'rabbit']\n"
     ]
    }
   ],
   "source": [
    "pets=['dog','cat','dog','goldfish','cat','rabbit','cat']\n",
    "print(pets)\n",
    "while 'cat' in pets:\n",
    "    pets.remove(\"cat\")\n",
    "print(pets)"
   ]
  },
  {
   "cell_type": "code",
   "execution_count": 22,
   "id": "2cd61908",
   "metadata": {},
   "outputs": [
    {
     "name": "stdout",
     "output_type": "stream",
     "text": [
      "\n",
      "---Poll Results---\n",
      "Eric would like to climb Denali.\n",
      "Lynn would like to climb Taishan.\n"
     ]
    }
   ],
   "source": [
    "responses={}\n",
    "polling_active=True\n",
    "while polling_active:\n",
    "    name=input(\"\\nWhat is your name? \")\n",
    "    response=input(\"Which mountain would you like to climb someday? \")\n",
    "    responses[name]=response  #数据存储\n",
    "    repeat=input(\"Would you like to let another person respond?(yes/no)\") #询问是否还要继续调查\n",
    "    if repeat=='no':\n",
    "        polling_active=False\n",
    "print(\"\\n---Poll Results---\")\n",
    "for name in responses.keys():\n",
    "    print(name+\" would like to climb \"+responses[name]+\".\")"
   ]
  }
 ],
 "metadata": {
  "kernelspec": {
   "display_name": "base",
   "language": "python",
   "name": "python3"
  },
  "language_info": {
   "codemirror_mode": {
    "name": "ipython",
    "version": 3
   },
   "file_extension": ".py",
   "mimetype": "text/x-python",
   "name": "python",
   "nbconvert_exporter": "python",
   "pygments_lexer": "ipython3",
   "version": "3.13.5"
  }
 },
 "nbformat": 4,
 "nbformat_minor": 5
}
