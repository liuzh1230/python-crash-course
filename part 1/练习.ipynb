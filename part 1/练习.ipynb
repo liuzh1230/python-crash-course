{
 "cells": [
  {
   "cell_type": "code",
   "execution_count": null,
   "id": "f42a18e5",
   "metadata": {},
   "outputs": [
    {
     "name": "stdout",
     "output_type": "stream",
     "text": [
      "Mimi is 5 years old.\n"
     ]
    }
   ],
   "source": [
    "class Animal():\n",
    "    def __init__(self,name,age):\n",
    "        self.name=name\n",
    "        self.age=age\n",
    "    \n",
    "    def answer(self):\n",
    "        print(self.name.title()+\" is \"+str(self.age)+\" years old.\")\n",
    "\n",
    "class Cat(Animal):\n",
    "    def __init__(self, name2, age2):\n",
    "        super().__init__(name2, age2)\n",
    "\n",
    "cat=Cat(\"mimi\",5)\n",
    "cat.answer()"
   ]
  }
 ],
 "metadata": {
  "kernelspec": {
   "display_name": "base",
   "language": "python",
   "name": "python3"
  },
  "language_info": {
   "codemirror_mode": {
    "name": "ipython",
    "version": 3
   },
   "file_extension": ".py",
   "mimetype": "text/x-python",
   "name": "python",
   "nbconvert_exporter": "python",
   "pygments_lexer": "ipython3",
   "version": "3.13.5"
  }
 },
 "nbformat": 4,
 "nbformat_minor": 5
}
