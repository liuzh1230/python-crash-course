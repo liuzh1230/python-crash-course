{
 "cells": [
  {
   "cell_type": "code",
   "execution_count": 1,
   "id": "8820a529",
   "metadata": {},
   "outputs": [
    {
     "name": "stdout",
     "output_type": "stream",
     "text": [
      "Hello World!\n"
     ]
    }
   ],
   "source": [
    "message=\"Hello World!\"\n",
    "print(message)"
   ]
  },
  {
   "cell_type": "code",
   "execution_count": 11,
   "id": "bdc492ff",
   "metadata": {},
   "outputs": [
    {
     "name": "stdout",
     "output_type": "stream",
     "text": [
      "Ada Lovelace\n",
      "ADA LOVELACE\n",
      "ada lovelace\n",
      "Ada lovelace\n",
      "Hello,Ada lovelace!\n",
      "\tpython\n",
      "Languages:\n",
      "python\n",
      "java\n",
      "Languages:\n",
      "\tpython\n",
      "java\n"
     ]
    }
   ],
   "source": [
    "#字符串相关1\n",
    "\n",
    "name=\"ada lovelace\"\n",
    "print(name.title()) #title():大写首字母\n",
    "print(name.upper())\n",
    "print(name.lower()) #upper()：全部大写  lower()：全部小写\n",
    "\n",
    "first_name=\"Ada\"\n",
    "last_name=\"lovelace\"\n",
    "full_name=first_name+\" \"+last_name\n",
    "print(full_name)\n",
    "print(\"Hello,\"+full_name+\"!\")\n",
    "\n",
    "print(\"\\tpython\") #\\t:制表符\n",
    "print(\"Languages:\\npython\\njava\") #\\n：换行符\n",
    "print(\"Languages:\\n\\tpython\\njava\")\n",
    "\n"
   ]
  },
  {
   "cell_type": "code",
   "execution_count": 24,
   "id": "5817bd5b",
   "metadata": {},
   "outputs": [
    {
     "name": "stdout",
     "output_type": "stream",
     "text": [
      "One of python's strengths is its diverse community\n"
     ]
    }
   ],
   "source": [
    "#字符串相关2\n",
    "\n",
    "f_language=\"python \"\n",
    "f_language \n",
    "f_language.rstrip()\n",
    "f_language\n",
    "#rstrip()：输出时删除右空格，不改变变量  这里输出会覆盖\n",
    "f_language=f_language.rstrip()\n",
    "f_language\n",
    "#类似地，有lstrip()和strip()\n",
    "\n",
    "message=\"One of python's strengths is its diverse community\"\n",
    "print(message)"
   ]
  },
  {
   "cell_type": "code",
   "execution_count": 30,
   "id": "86d070d1",
   "metadata": {},
   "outputs": [
    {
     "name": "stdout",
     "output_type": "stream",
     "text": [
      "5\n",
      "2\n",
      "18\n",
      "27\n",
      "0.2\n",
      "0.30000000000000004\n",
      "Happy 23rd birthday!\n",
      "1.5\n",
      "1.5\n"
     ]
    }
   ],
   "source": [
    "#数字\n",
    "\n",
    "print(2+3)\n",
    "print(3-1)\n",
    "print(2*9)\n",
    "print(3**3)\n",
    "\n",
    "print(2*0.1)\n",
    "print(3*0.1)\n",
    "\n",
    "age=23\n",
    "message=\"Happy \"+str(age)+\"rd birthday!\"\n",
    "print(message)\n",
    "#str():将非字符串值表示为字符串\n",
    "\n",
    "print(3/2)\n",
    "print(3.0/2)"
   ]
  },
  {
   "cell_type": "code",
   "execution_count": 31,
   "id": "36ef48c3",
   "metadata": {},
   "outputs": [
    {
     "name": "stdout",
     "output_type": "stream",
     "text": [
      "The Zen of Python, by Tim Peters\n",
      "\n",
      "Beautiful is better than ugly.\n",
      "Explicit is better than implicit.\n",
      "Simple is better than complex.\n",
      "Complex is better than complicated.\n",
      "Flat is better than nested.\n",
      "Sparse is better than dense.\n",
      "Readability counts.\n",
      "Special cases aren't special enough to break the rules.\n",
      "Although practicality beats purity.\n",
      "Errors should never pass silently.\n",
      "Unless explicitly silenced.\n",
      "In the face of ambiguity, refuse the temptation to guess.\n",
      "There should be one-- and preferably only one --obvious way to do it.\n",
      "Although that way may not be obvious at first unless you're Dutch.\n",
      "Now is better than never.\n",
      "Although never is often better than *right* now.\n",
      "If the implementation is hard to explain, it's a bad idea.\n",
      "If the implementation is easy to explain, it may be a good idea.\n",
      "Namespaces are one honking great idea -- let's do more of those!\n"
     ]
    }
   ],
   "source": [
    "import this"
   ]
  }
 ],
 "metadata": {
  "kernelspec": {
   "display_name": "base",
   "language": "python",
   "name": "python3"
  },
  "language_info": {
   "codemirror_mode": {
    "name": "ipython",
    "version": 3
   },
   "file_extension": ".py",
   "mimetype": "text/x-python",
   "name": "python",
   "nbconvert_exporter": "python",
   "pygments_lexer": "ipython3",
   "version": "3.13.5"
  }
 },
 "nbformat": 4,
 "nbformat_minor": 5
}
