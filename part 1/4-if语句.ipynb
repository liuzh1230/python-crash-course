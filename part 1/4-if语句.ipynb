{
 "cells": [
  {
   "cell_type": "code",
   "execution_count": 1,
   "id": "36d37b1c",
   "metadata": {},
   "outputs": [
    {
     "name": "stdout",
     "output_type": "stream",
     "text": [
      "Audi\n",
      "BMW\n",
      "Subaru\n",
      "Toyota\n"
     ]
    }
   ],
   "source": [
    "cars=['audi','bmw','subaru','toyota']\n",
    "for car in cars:\n",
    "    if car == 'bmw':\n",
    "        print(car.upper())\n",
    "    else:\n",
    "        print(car.title())"
   ]
  },
  {
   "cell_type": "code",
   "execution_count": null,
   "id": "43a3de30",
   "metadata": {},
   "outputs": [
    {
     "data": {
      "text/plain": [
       "False"
      ]
     },
     "execution_count": 3,
     "metadata": {},
     "output_type": "execute_result"
    }
   ],
   "source": [
    "car='bmw'\n",
    "car=='bmw' #会输出True\n",
    "car=='audi' #会输出False\n",
    "#\"=\"为赋值,\"==\"相当于提问"
   ]
  },
  {
   "cell_type": "code",
   "execution_count": null,
   "id": "fb681313",
   "metadata": {},
   "outputs": [
    {
     "data": {
      "text/plain": [
       "False"
      ]
     },
     "execution_count": 6,
     "metadata": {},
     "output_type": "execute_result"
    }
   ],
   "source": [
    "car='Audi'\n",
    "car=='audi'\n",
    "car.lower()=='audi'"
   ]
  },
  {
   "cell_type": "code",
   "execution_count": 8,
   "id": "f8ea0311",
   "metadata": {},
   "outputs": [
    {
     "name": "stdout",
     "output_type": "stream",
     "text": [
      "Hold the anchovies\n"
     ]
    },
    {
     "data": {
      "text/plain": [
       "True"
      ]
     },
     "execution_count": 8,
     "metadata": {},
     "output_type": "execute_result"
    }
   ],
   "source": [
    "requested_topping='mushrooms'\n",
    "if requested_topping != 'anchovies':\n",
    "    print(\"Hold the anchovies\")\n",
    "requested_topping!='anchovies'"
   ]
  },
  {
   "cell_type": "code",
   "execution_count": 12,
   "id": "2886941f",
   "metadata": {},
   "outputs": [
    {
     "name": "stdout",
     "output_type": "stream",
     "text": [
      "Wrong\n"
     ]
    },
    {
     "data": {
      "text/plain": [
       "True"
      ]
     },
     "execution_count": 12,
     "metadata": {},
     "output_type": "execute_result"
    }
   ],
   "source": [
    "#数字比较\n",
    "num=18\n",
    "if num != 42:\n",
    "    print(\"Wrong\")\n",
    "num==18\n",
    "#还有<,>,<=,>=\n",
    "\n",
    "age_0=22\n",
    "age_1=18\n",
    "age_0>=21 and age_1>=21 #and:检查两个条件是否都满足 此处输出False\n",
    "age_0>=25 or age_1<=20 #or:检查两个条件是否至少有一个满足 此处输出True"
   ]
  },
  {
   "cell_type": "code",
   "execution_count": null,
   "id": "808a3e8b",
   "metadata": {},
   "outputs": [
    {
     "name": "stdout",
     "output_type": "stream",
     "text": [
      "Marie,you can use it\n"
     ]
    }
   ],
   "source": [
    "#检查特定值是否包含在列表中\n",
    "requested_toppings=['mushrooms','onions','pineapple']\n",
    "'mushrooms' in requested_toppings #输出True\n",
    "'pepperoni' in requested_toppings #输出False\n",
    "\n",
    "banned_users=['andrew','carolina','david']\n",
    "user='marie'\n",
    "if user not in banned_users:\n",
    "    print(user.title()+\", you can use it\")"
   ]
  },
  {
   "cell_type": "code",
   "execution_count": null,
   "id": "96557fae",
   "metadata": {},
   "outputs": [],
   "source": [
    "#布尔类型\n",
    "can_edit=False\n",
    "game_active=True"
   ]
  },
  {
   "cell_type": "code",
   "execution_count": null,
   "id": "23b75473",
   "metadata": {},
   "outputs": [
    {
     "name": "stdout",
     "output_type": "stream",
     "text": [
      "Your admission cost is $5.\n"
     ]
    }
   ],
   "source": [
    "age=12\n",
    "if age<4:\n",
    "    print(\"Your admission cost is $0.\")\n",
    "elif age<18:\n",
    "    print(\"Your admission cost is $5.\")\n",
    "else:\n",
    "    print(\"Your admission cost is $10.\")\n",
    "#if-elif结构后面不必须有else语句，可根据需要决定"
   ]
  },
  {
   "cell_type": "code",
   "execution_count": null,
   "id": "2b693fd7",
   "metadata": {},
   "outputs": [
    {
     "name": "stdout",
     "output_type": "stream",
     "text": [
      "Addingmushrooms.\n",
      "Sorry,we are out of green peppers right now.\n",
      "Addingextra cheese.\n",
      "\n",
      "Finished making your pizza.\n",
      "\n",
      "\n",
      "Are you sure you want a plain pizza?\n"
     ]
    }
   ],
   "source": [
    "requested_toppings=['mushrooms','green peppers','extra cheese']\n",
    "for requested_topping in requested_toppings:\n",
    "    if requested_topping=='green peppers':\n",
    "        print(\"Sorry,we are out of green peppers right now.\")\n",
    "    else:\n",
    "        print(\"Adding\"+requested_topping+\".\")\n",
    "print(\"\\nFinished making your pizza.\")\n",
    "\n",
    "print(\"\\n\")\n",
    "\n",
    "requested_toppings=[]\n",
    "if requested_toppings: #列表不为空时返回True，为空时返回False\n",
    "    for requested_topping in requested_toppings:\n",
    "        print(\"Adding\"+requested_topping+\".\")\n",
    "    print(\"\\nFinished making your pizza.\")\n",
    "else:\n",
    "    print(\"Are you sure you want a plain pizza?\")"
   ]
  },
  {
   "cell_type": "code",
   "execution_count": 21,
   "id": "9fe2f5d3",
   "metadata": {},
   "outputs": [
    {
     "name": "stdout",
     "output_type": "stream",
     "text": [
      "Adding mushrooms.\n",
      "Sorry,we don't have french fries.\n",
      "Adding extra cheese.\n",
      "\n",
      "Finishing making your pizza\n"
     ]
    }
   ],
   "source": [
    "available_toppings=['mushrooms','olives','green peppers','pepperoni','pineapple','extra cheese']\n",
    "requested_toppings=['mushrooms','french fries','extra cheese']\n",
    "for requested_topping in requested_toppings:\n",
    "    if requested_topping in available_toppings:\n",
    "        print(\"Adding \"+requested_topping+\".\")\n",
    "    else:\n",
    "        print(\"Sorry,we don't have \"+requested_topping+\".\")\n",
    "print(\"\\nFinishing making your pizza\")"
   ]
  }
 ],
 "metadata": {
  "kernelspec": {
   "display_name": "base",
   "language": "python",
   "name": "python3"
  },
  "language_info": {
   "codemirror_mode": {
    "name": "ipython",
    "version": 3
   },
   "file_extension": ".py",
   "mimetype": "text/x-python",
   "name": "python",
   "nbconvert_exporter": "python",
   "pygments_lexer": "ipython3",
   "version": "3.13.5"
  }
 },
 "nbformat": 4,
 "nbformat_minor": 5
}
