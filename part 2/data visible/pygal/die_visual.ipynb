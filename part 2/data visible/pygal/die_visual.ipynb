{
 "cells": [
  {
   "cell_type": "code",
   "execution_count": 4,
   "id": "066193f2",
   "metadata": {},
   "outputs": [
    {
     "name": "stdout",
     "output_type": "stream",
     "text": [
      "1000\n",
      "{1, 2, 3, 4, 5, 6}\n",
      "[179, 153, 161, 194, 161, 152]\n"
     ]
    }
   ],
   "source": [
    "import pygal\n",
    "from die import Die\n",
    "\n",
    "#创建一个6面的骰子\n",
    "die=Die()\n",
    "\n",
    "#掷几次骰子，并存储结果\n",
    "results=[]\n",
    "\n",
    "for roll_num in range(1000):\n",
    "    result=die.roll()\n",
    "    results.append(result)\n",
    "\n",
    "a=set(results)\n",
    "#print(results)\n",
    "print(len(results))\n",
    "print(a)\n",
    "\n",
    "#分析结果\n",
    "frequencies=[]\n",
    "for value in range(1,die.num_sides+1):\n",
    "    frequency=results.count(value)\n",
    "    frequencies.append(frequency)\n",
    "\n",
    "print(frequencies)\n",
    "\n",
    "#对结果进行可视化\n",
    "hist=pygal.Bar()\n",
    "\n",
    "hist.title=\"Results of rolling a D6  1000 times\"\n",
    "hist.x_labels=['1','2','3','4','5','6']  #x轴的标签\n",
    "hist.x_title=\"Result\"\n",
    "hist.y_title=\"Frequency of Result\"  #为x,y轴添加标题\n",
    "\n",
    "hist.add('D6',frequencies)   #传递要给添加的值指定的标签，和一个包含将要在图表中出现的值的列表\n",
    "hist.render_to_file('die_visual.svg')"
   ]
  },
  {
   "cell_type": "code",
   "execution_count": 5,
   "id": "df2862da",
   "metadata": {},
   "outputs": [
    {
     "name": "stdout",
     "output_type": "stream",
     "text": [
      "[1417, 2744, 4259, 5591, 6938, 8265, 6844, 5453, 4224, 2861, 1404]\n"
     ]
    }
   ],
   "source": [
    "#同时掷两个骰子\n",
    "import pygal\n",
    "from die import Die\n",
    "\n",
    "die_1=Die()\n",
    "die_2=Die()\n",
    "\n",
    "#掷几次骰子，并存储结果\n",
    "results=[]\n",
    "\n",
    "for roll_num in range(50000):\n",
    "    result=die_1.roll()+die_2.roll()\n",
    "    results.append(result)\n",
    "\n",
    "#a=set(results)\n",
    "#print(results)\n",
    "#print(len(results))\n",
    "#print(a)\n",
    "\n",
    "#分析结果\n",
    "frequencies=[]\n",
    "for value in range(2,die_1.num_sides+die_2.num_sides+1):\n",
    "    frequency=results.count(value)\n",
    "    frequencies.append(frequency)\n",
    "\n",
    "print(frequencies)\n",
    "\n",
    "#对结果进行可视化\n",
    "hist=pygal.Bar()\n",
    "\n",
    "hist.title=\"Results of rolling two D6 50,000 times.\"\n",
    "hist.x_labels=['2','3','4','5','6','7','8','9','10','11','12']  #x轴的标签\n",
    "hist.x_title=\"Result\"\n",
    "hist.y_title=\"Frequency of Result\"  #为x,y轴添加标题\n",
    "\n",
    "hist.add('D6+D10',frequencies)   #传递要给添加的值指定的标签，和一个包含将要在图表中出现的值的列表\n",
    "hist.render_to_file('die_visual_3.svg')"
   ]
  },
  {
   "cell_type": "code",
   "execution_count": 6,
   "id": "c84c7f39",
   "metadata": {},
   "outputs": [
    {
     "name": "stdout",
     "output_type": "stream",
     "text": [
      "[861, 1560, 2502, 3354, 4122, 4959, 5017, 5089, 5064, 5039, 4084, 3391, 2395, 1697, 866]\n"
     ]
    }
   ],
   "source": [
    "#同时掷两个不同的骰子\n",
    "import pygal\n",
    "from die import Die\n",
    "\n",
    "die_1=Die()\n",
    "die_2=Die(10)\n",
    "\n",
    "#掷几次骰子，并存储结果\n",
    "results=[]\n",
    "\n",
    "for roll_num in range(50000):\n",
    "    result=die_1.roll()+die_2.roll()\n",
    "    results.append(result)\n",
    "\n",
    "#a=set(results)\n",
    "#print(results)\n",
    "#print(len(results))\n",
    "#print(a)\n",
    "\n",
    "#分析结果\n",
    "frequencies=[]\n",
    "for value in range(2,die_1.num_sides+die_2.num_sides+1):\n",
    "    frequency=results.count(value)\n",
    "    frequencies.append(frequency)\n",
    "\n",
    "print(frequencies)\n",
    "\n",
    "#对结果进行可视化\n",
    "hist=pygal.Bar()\n",
    "\n",
    "hist.title=\"Results of rolling a D6 and a D10 50000 times\"\n",
    "hist.x_labels=['2','3','4','5','6','7','8','9','10','11','12',\n",
    "               '13','14','15','16']  #x轴的标签\n",
    "hist.x_title=\"Result\"\n",
    "hist.y_title=\"Frequency of Result\"  #为x,y轴添加标题\n",
    "\n",
    "hist.add('D6+D6',frequencies)   #传递要给添加的值指定的标签，和一个包含将要在图表中出现的值的列表\n",
    "hist.render_to_file('die_visual_3.svg')"
   ]
  }
 ],
 "metadata": {
  "kernelspec": {
   "display_name": "base",
   "language": "python",
   "name": "python3"
  },
  "language_info": {
   "codemirror_mode": {
    "name": "ipython",
    "version": 3
   },
   "file_extension": ".py",
   "mimetype": "text/x-python",
   "name": "python",
   "nbconvert_exporter": "python",
   "pygments_lexer": "ipython3",
   "version": "3.13.5"
  }
 },
 "nbformat": 4,
 "nbformat_minor": 5
}
